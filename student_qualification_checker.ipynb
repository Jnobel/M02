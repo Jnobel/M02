{
 "cells": [
  {
   "cell_type": "markdown",
   "metadata": {},
   "source": [
    "# Author: Joshua Nobel\n",
    "# File: student_qualification_checker.py\n",
    "# Description: This application accepts student names and GPA, then determines if they qualify for the Dean's List or Honor Roll. \n",
    "# The program stops when the user enters 'ZZZ' for the last name."
   ]
  },
  {
   "cell_type": "code",
   "execution_count": null,
   "metadata": {},
   "outputs": [],
   "source": [
    "def main():\n",
    "    while True:\n",
    "        # Get the student's last name\n",
    "        last_name = input(\"Enter the student's last name (or 'ZZZ' to quit): \")\n",
    "        if last_name.upper() == 'ZZZ':\n",
    "            print(\"Exiting the application.\")\n",
    "            break\n",
    "\n",
    "        # Get the student's first name\n",
    "        first_name = input(\"Enter the student's first name: \")\n",
    "\n",
    "        # Get the student's GPA\n",
    "        try:\n",
    "            gpa = float(input(\"Enter the student's GPA: \"))\n",
    "        except ValueError:\n",
    "            print(\"Invalid input for GPA. Please enter a numeric value.\")\n",
    "            continue\n",
    "\n",
    "        # Check qualifications for Dean's List and Honor Roll\n",
    "        if gpa >= 3.5:\n",
    "            print(f\"{first_name} {last_name} has made the Dean's List.\")\n",
    "        elif gpa >= 3.25:\n",
    "            print(f\"{first_name} {last_name} has made the Honor Roll.\")\n",
    "        else:\n",
    "            print(f\"{first_name} {last_name} does not qualify for the Dean's List or Honor Roll.\")"
   ]
  },
  {
   "cell_type": "code",
   "execution_count": null,
   "metadata": {},
   "outputs": [],
   "source": [
    "# Run the main function\n",
    "if __name__ == \"__main__\":\n",
    "    main()"
   ]
  }
 ],
 "metadata": {
  "language_info": {
   "name": "python"
  }
 },
 "nbformat": 4,
 "nbformat_minor": 2
}
